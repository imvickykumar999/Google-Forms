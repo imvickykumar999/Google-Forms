{
 "cells": [
  {
   "cell_type": "code",
   "execution_count": 3,
   "metadata": {},
   "outputs": [
    {
     "name": "stdout",
     "output_type": "stream",
     "text": [
      "Your IP detail\n",
      " \n",
      "IP : 1.39.218.53 \n",
      "Region : Rajasthan \n",
      "Country : IN \n",
      "City : Jaipur \n",
      "Org : AS38266 Vodafone India Ltd.\n"
     ]
    }
   ],
   "source": [
    "import re\n",
    "import json\n",
    "from urllib.request import urlopen\n",
    "\n",
    "url = 'http://ipinfo.io/json'\n",
    "response = urlopen(url)\n",
    "data = json.load(response)\n",
    "\n",
    "IP=data['ip']\n",
    "org=data['org']\n",
    "city = data['city']\n",
    "country=data['country']\n",
    "region=data['region']\n",
    "\n",
    "print ('Your IP detail\\n ')\n",
    "print ('IP : {4} \\nRegion : {1} \\nCountry : {2} \\nCity : {3} \\nOrg : {0}'.format(org,region,country,city,IP) )   \n"
   ]
  },
  {
   "cell_type": "code",
   "execution_count": 4,
   "metadata": {},
   "outputs": [
    {
     "data": {
      "text/plain": [
       "{'ip': '1.39.218.53',\n",
       " 'hostname': '1-39-218-53.live.vodafone.in',\n",
       " 'city': 'Jaipur',\n",
       " 'region': 'Rajasthan',\n",
       " 'country': 'IN',\n",
       " 'loc': '26.9196,75.7878',\n",
       " 'org': 'AS38266 Vodafone India Ltd.',\n",
       " 'postal': '302001',\n",
       " 'timezone': 'Asia/Kolkata',\n",
       " 'readme': 'https://ipinfo.io/missingauth'}"
      ]
     },
     "execution_count": 4,
     "metadata": {},
     "output_type": "execute_result"
    }
   ],
   "source": [
    "data"
   ]
  },
  {
   "cell_type": "code",
   "execution_count": null,
   "metadata": {},
   "outputs": [],
   "source": []
  }
 ],
 "metadata": {
  "kernelspec": {
   "display_name": "Python 3",
   "language": "python",
   "name": "python3"
  },
  "language_info": {
   "codemirror_mode": {
    "name": "ipython",
    "version": 3
   },
   "file_extension": ".py",
   "mimetype": "text/x-python",
   "name": "python",
   "nbconvert_exporter": "python",
   "pygments_lexer": "ipython3",
   "version": "3.8.3"
  }
 },
 "nbformat": 4,
 "nbformat_minor": 4
}
