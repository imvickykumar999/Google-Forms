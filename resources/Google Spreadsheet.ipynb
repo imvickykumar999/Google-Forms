{
 "cells": [
  {
   "cell_type": "markdown",
   "metadata": {},
   "source": [
    "# https://www.geeksforgeeks.org/collecting-data-with-google-forms-and-pandas/"
   ]
  },
  {
   "cell_type": "markdown",
   "metadata": {},
   "source": [
    "# https://www.analyticsvidhya.com/blog/2020/07/read-and-update-google-spreadsheets-with-python/"
   ]
  },
  {
   "cell_type": "code",
   "execution_count": 1,
   "metadata": {},
   "outputs": [
    {
     "name": "stdout",
     "output_type": "stream",
     "text": [
      "https://docs.google.com/spreadsheets/d/1E-SpPEszLcyEysQNHAB12LfCIhj_v0HRbRHs21msd7Y/edit?usp=sharing\n"
     ]
    }
   ],
   "source": [
    "print('https://docs.google.com/spreadsheets/d/1E-SpPEszLcyEysQNHAB12LfCIhj_v0HRbRHs21msd7Y/edit?usp=sharing') "
   ]
  },
  {
   "cell_type": "code",
   "execution_count": 9,
   "metadata": {
    "scrolled": true
   },
   "outputs": [
    {
     "name": "stdout",
     "output_type": "stream",
     "text": [
      "Collecting pydrive\n",
      "  Using cached PyDrive-1.3.1.tar.gz (987 kB)\n",
      "Requirement already satisfied: google-api-python-client>=1.2 in c:\\users\\vicky\\anaconda3\\lib\\site-packages (from pydrive) (2.18.0)\n",
      "Requirement already satisfied: oauth2client>=4.0.0 in c:\\users\\vicky\\anaconda3\\lib\\site-packages (from pydrive) (4.1.3)\n",
      "Requirement already satisfied: PyYAML>=3.0 in c:\\users\\vicky\\anaconda3\\lib\\site-packages (from pydrive) (5.3.1)\n",
      "Requirement already satisfied: google-api-core<3.0.0dev,>=1.21.0 in c:\\users\\vicky\\anaconda3\\lib\\site-packages (from google-api-python-client>=1.2->pydrive) (1.23.0)\n",
      "Requirement already satisfied: google-auth<3.0.0dev,>=1.16.0 in c:\\users\\vicky\\anaconda3\\lib\\site-packages (from google-api-python-client>=1.2->pydrive) (1.23.0)\n",
      "Requirement already satisfied: uritemplate<4dev,>=3.0.0 in c:\\users\\vicky\\anaconda3\\lib\\site-packages (from google-api-python-client>=1.2->pydrive) (3.0.1)\n",
      "Requirement already satisfied: httplib2<1dev,>=0.15.0 in c:\\users\\vicky\\anaconda3\\lib\\site-packages (from google-api-python-client>=1.2->pydrive) (0.18.1)\n",
      "Requirement already satisfied: google-auth-httplib2>=0.1.0 in c:\\users\\vicky\\anaconda3\\lib\\site-packages (from google-api-python-client>=1.2->pydrive) (0.1.0)\n",
      "Requirement already satisfied: rsa>=3.1.4 in c:\\users\\vicky\\anaconda3\\lib\\site-packages (from oauth2client>=4.0.0->pydrive) (4.6)\n",
      "Requirement already satisfied: six>=1.6.1 in c:\\users\\vicky\\anaconda3\\lib\\site-packages (from oauth2client>=4.0.0->pydrive) (1.15.0)\n",
      "Requirement already satisfied: pyasn1>=0.1.7 in c:\\users\\vicky\\anaconda3\\lib\\site-packages (from oauth2client>=4.0.0->pydrive) (0.4.8)\n",
      "Requirement already satisfied: pyasn1-modules>=0.0.5 in c:\\users\\vicky\\anaconda3\\lib\\site-packages (from oauth2client>=4.0.0->pydrive) (0.2.8)\n",
      "Requirement already satisfied: protobuf>=3.12.0 in c:\\users\\vicky\\anaconda3\\lib\\site-packages (from google-api-core<3.0.0dev,>=1.21.0->google-api-python-client>=1.2->pydrive) (3.13.0)\n",
      "Requirement already satisfied: requests<3.0.0dev,>=2.18.0 in c:\\users\\vicky\\anaconda3\\lib\\site-packages (from google-api-core<3.0.0dev,>=1.21.0->google-api-python-client>=1.2->pydrive) (2.24.0)\n",
      "Requirement already satisfied: googleapis-common-protos<2.0dev,>=1.6.0 in c:\\users\\vicky\\anaconda3\\lib\\site-packages (from google-api-core<3.0.0dev,>=1.21.0->google-api-python-client>=1.2->pydrive) (1.52.0)\n",
      "Requirement already satisfied: setuptools>=34.0.0 in c:\\users\\vicky\\anaconda3\\lib\\site-packages (from google-api-core<3.0.0dev,>=1.21.0->google-api-python-client>=1.2->pydrive) (49.2.0.post20200714)\n",
      "Requirement already satisfied: pytz in c:\\users\\vicky\\anaconda3\\lib\\site-packages (from google-api-core<3.0.0dev,>=1.21.0->google-api-python-client>=1.2->pydrive) (2020.1)\n",
      "Requirement already satisfied: cachetools<5.0,>=2.0.0 in c:\\users\\vicky\\anaconda3\\lib\\site-packages (from google-auth<3.0.0dev,>=1.16.0->google-api-python-client>=1.2->pydrive) (4.2.2)\n",
      "Requirement already satisfied: chardet<4,>=3.0.2 in c:\\users\\vicky\\anaconda3\\lib\\site-packages (from requests<3.0.0dev,>=2.18.0->google-api-core<3.0.0dev,>=1.21.0->google-api-python-client>=1.2->pydrive) (3.0.4)\n",
      "Requirement already satisfied: certifi>=2017.4.17 in c:\\users\\vicky\\anaconda3\\lib\\site-packages (from requests<3.0.0dev,>=2.18.0->google-api-core<3.0.0dev,>=1.21.0->google-api-python-client>=1.2->pydrive) (2020.6.20)\n",
      "Requirement already satisfied: idna<3,>=2.5 in c:\\users\\vicky\\anaconda3\\lib\\site-packages (from requests<3.0.0dev,>=2.18.0->google-api-core<3.0.0dev,>=1.21.0->google-api-python-client>=1.2->pydrive) (2.10)\n",
      "Requirement already satisfied: urllib3!=1.25.0,!=1.25.1,<1.26,>=1.21.1 in c:\\users\\vicky\\anaconda3\\lib\\site-packages (from requests<3.0.0dev,>=2.18.0->google-api-core<3.0.0dev,>=1.21.0->google-api-python-client>=1.2->pydrive) (1.25.11)\n",
      "Building wheels for collected packages: pydrive\n",
      "  Building wheel for pydrive (setup.py): started\n",
      "  Building wheel for pydrive (setup.py): finished with status 'done'\n",
      "  Created wheel for pydrive: filename=PyDrive-1.3.1-py3-none-any.whl size=27440 sha256=61c9b68d949897729c364b1f0420bfacf5b063a78f7178e7f8a5530775a3437c\n",
      "  Stored in directory: c:\\users\\vicky\\appdata\\local\\pip\\cache\\wheels\\c6\\14\\12\\ccdcc5d3b41661f360f9c7d9f7ea9d1879a5f85aa4ecc8cc6f\n",
      "Successfully built pydrive\n",
      "Installing collected packages: pydrive\n",
      "Successfully installed pydrive-1.3.1\n",
      "Requirement already satisfied: xlrd in c:\\users\\vicky\\anaconda3\\lib\\site-packages (1.2.0)\n",
      "Requirement already satisfied: openpyxl in c:\\users\\vicky\\anaconda3\\lib\\site-packages (3.0.4)\n",
      "Requirement already satisfied: et-xmlfile in c:\\users\\vicky\\anaconda3\\lib\\site-packages (from openpyxl) (1.0.1)\n",
      "Requirement already satisfied: jdcal in c:\\users\\vicky\\anaconda3\\lib\\site-packages (from openpyxl) (1.4.1)\n"
     ]
    }
   ],
   "source": [
    "!pip install pydrive\n",
    "!pip install xlrd\n",
    "!pip install openpyxl"
   ]
  },
  {
   "cell_type": "code",
   "execution_count": null,
   "metadata": {
    "scrolled": true
   },
   "outputs": [],
   "source": [
    "from pydrive.auth import GoogleAuth\n",
    "from pydrive.drive import GoogleDrive\n",
    "import pandas as pd\n",
    "  \n",
    "# Initializing a GoogleAuth Object\n",
    "gauth = GoogleAuth()\n",
    "  \n",
    "# client_secrets.json file is verified\n",
    "# and it automatically handles authentication\n",
    "gauth.LocalWebserverAuth()\n",
    "  \n",
    "# GoogleDrive Instance is created using\n",
    "# authenticated GoogleAuth instance\n",
    "drive = GoogleDrive(gauth)\n",
    "  \n",
    "# Initialize GoogleDriveFile instance with file id\n",
    "file_obj = drive.CreateFile({'id': 'client_secret_785081993413-1obrhojr1vr4o478i93k6qo4mgve2475.apps.googleusercontent.com'})\n",
    "file_obj.GetContentFile('FILE_NAME.xls',\n",
    "         mimetype='application/vnd.openxmlformats-officedocument.spreadsheetml.sheet')\n",
    "  \n",
    "dataframe = pd.read_excel('FILE_NAME.xls')\n",
    "print(dataframe)\n"
   ]
  },
  {
   "cell_type": "markdown",
   "metadata": {},
   "source": [
    "# [Spreadsheet Output Data](https://docs.google.com/spreadsheets/d/1E-SpPEszLcyEysQNHAB12LfCIhj_v0HRbRHs21msd7Y/edit?resourcekey#gid=1251398035)"
   ]
  },
  {
   "cell_type": "markdown",
   "metadata": {},
   "source": [
    "# https://console.cloud.google.com/apis/credentials?project=model-magnet-316316&folder=&organizationId="
   ]
  },
  {
   "cell_type": "markdown",
   "metadata": {},
   "source": [
    "# https://docs.google.com/forms/d/1_Rs1Z4NHCSx8Gb3Ykbsyhvza4SkCCbx8-7AvCcDnBp0/edit#responses"
   ]
  },
  {
   "cell_type": "code",
   "execution_count": null,
   "metadata": {},
   "outputs": [],
   "source": []
  }
 ],
 "metadata": {
  "kernelspec": {
   "display_name": "Python 3",
   "language": "python",
   "name": "python3"
  },
  "language_info": {
   "codemirror_mode": {
    "name": "ipython",
    "version": 3
   },
   "file_extension": ".py",
   "mimetype": "text/x-python",
   "name": "python",
   "nbconvert_exporter": "python",
   "pygments_lexer": "ipython3",
   "version": "3.8.3"
  }
 },
 "nbformat": 4,
 "nbformat_minor": 4
}
